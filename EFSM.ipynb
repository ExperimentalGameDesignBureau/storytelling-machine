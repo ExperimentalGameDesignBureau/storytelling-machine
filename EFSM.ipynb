{
  "nbformat": 4,
  "nbformat_minor": 0,
  "metadata": {
    "colab": {
      "name": "EFSM.ipynb",
      "provenance": [],
      "collapsed_sections": []
    },
    "kernelspec": {
      "name": "python3",
      "display_name": "Python 3"
    },
    "language_info": {
      "name": "python"
    }
  },
  "cells": [
    {
      "cell_type": "markdown",
      "source": [
        "# 实验传奇故事生成器\n",
        "# Experimental Fantasy Stroytelling Machine\n",
        "\n",
        "这是一个参考了人生重置的实验项目，计划实现一种网状智能叙事机。\n",
        "\n",
        "2022-05-01 项目启动\n",
        "\n",
        "2022-05-15 添加了基本测试功能\n",
        "\n",
        "2022-05-17 更新了 github 版本"
      ],
      "metadata": {
        "id": "qix5PJRhHSU-"
      }
    },
    {
      "cell_type": "code",
      "source": [
        "from collections import defaultdict\n",
        "\n",
        "import numpy as np\n",
        "import pandas as pd\n",
        "import matplotlib.pyplot as plt\n",
        "\n",
        "# Mount Google Drive\n",
        "# 如果你用 jupyter，记得把这个改一下。\n",
        "from google.colab import drive\n",
        "drive.mount(\"/content/drive\")\n",
        "# Change the directory to data-mining folder\n",
        "%cd /content/drive/My Drive/Colab Notebooks/efsm-project/\n",
        "\n",
        "events = pd.read_csv(\"samples.csv\")\n",
        "events"
      ],
      "metadata": {
        "id": "Xd2sPiNxJWXP",
        "colab": {
          "base_uri": "https://localhost:8080/",
          "height": 241
        },
        "outputId": "c6144ccd-8db5-44ba-8b91-d8bfafa5441a"
      },
      "execution_count": 4,
      "outputs": [
        {
          "output_type": "stream",
          "name": "stdout",
          "text": [
            "Drive already mounted at /content/drive; to attempt to forcibly remount, call drive.mount(\"/content/drive\", force_remount=True).\n",
            "/content/drive/My Drive/Colab Notebooks/efsm-project\n"
          ]
        },
        {
          "output_type": "execute_result",
          "data": {
            "text/plain": [
              "   id  group                                            content  \\\n",
              "0   0    NaN                                                NaN   \n",
              "1   1    1.0                                      凡是神结合的，人不能分开。   \n",
              "2   2    1.0  What God has joined together, let no one separ...   \n",
              "3   3    2.0                              我今年{age}，我的名字是{name}。   \n",
              "4   4    2.0                            id: {id}, group {group}   \n",
              "\n",
              "              tag  \n",
              "0             NaN  \n",
              "1  (god, chinese)  \n",
              "2  (god, english)  \n",
              "3       (chinese)  \n",
              "4       (english)  "
            ],
            "text/html": [
              "\n",
              "  <div id=\"df-b27ab2df-2243-4c30-ad13-140647e735bc\">\n",
              "    <div class=\"colab-df-container\">\n",
              "      <div>\n",
              "<style scoped>\n",
              "    .dataframe tbody tr th:only-of-type {\n",
              "        vertical-align: middle;\n",
              "    }\n",
              "\n",
              "    .dataframe tbody tr th {\n",
              "        vertical-align: top;\n",
              "    }\n",
              "\n",
              "    .dataframe thead th {\n",
              "        text-align: right;\n",
              "    }\n",
              "</style>\n",
              "<table border=\"1\" class=\"dataframe\">\n",
              "  <thead>\n",
              "    <tr style=\"text-align: right;\">\n",
              "      <th></th>\n",
              "      <th>id</th>\n",
              "      <th>group</th>\n",
              "      <th>content</th>\n",
              "      <th>tag</th>\n",
              "    </tr>\n",
              "  </thead>\n",
              "  <tbody>\n",
              "    <tr>\n",
              "      <th>0</th>\n",
              "      <td>0</td>\n",
              "      <td>NaN</td>\n",
              "      <td>NaN</td>\n",
              "      <td>NaN</td>\n",
              "    </tr>\n",
              "    <tr>\n",
              "      <th>1</th>\n",
              "      <td>1</td>\n",
              "      <td>1.0</td>\n",
              "      <td>凡是神结合的，人不能分开。</td>\n",
              "      <td>(god, chinese)</td>\n",
              "    </tr>\n",
              "    <tr>\n",
              "      <th>2</th>\n",
              "      <td>2</td>\n",
              "      <td>1.0</td>\n",
              "      <td>What God has joined together, let no one separ...</td>\n",
              "      <td>(god, english)</td>\n",
              "    </tr>\n",
              "    <tr>\n",
              "      <th>3</th>\n",
              "      <td>3</td>\n",
              "      <td>2.0</td>\n",
              "      <td>我今年{age}，我的名字是{name}。</td>\n",
              "      <td>(chinese)</td>\n",
              "    </tr>\n",
              "    <tr>\n",
              "      <th>4</th>\n",
              "      <td>4</td>\n",
              "      <td>2.0</td>\n",
              "      <td>id: {id}, group {group}</td>\n",
              "      <td>(english)</td>\n",
              "    </tr>\n",
              "  </tbody>\n",
              "</table>\n",
              "</div>\n",
              "      <button class=\"colab-df-convert\" onclick=\"convertToInteractive('df-b27ab2df-2243-4c30-ad13-140647e735bc')\"\n",
              "              title=\"Convert this dataframe to an interactive table.\"\n",
              "              style=\"display:none;\">\n",
              "        \n",
              "  <svg xmlns=\"http://www.w3.org/2000/svg\" height=\"24px\"viewBox=\"0 0 24 24\"\n",
              "       width=\"24px\">\n",
              "    <path d=\"M0 0h24v24H0V0z\" fill=\"none\"/>\n",
              "    <path d=\"M18.56 5.44l.94 2.06.94-2.06 2.06-.94-2.06-.94-.94-2.06-.94 2.06-2.06.94zm-11 1L8.5 8.5l.94-2.06 2.06-.94-2.06-.94L8.5 2.5l-.94 2.06-2.06.94zm10 10l.94 2.06.94-2.06 2.06-.94-2.06-.94-.94-2.06-.94 2.06-2.06.94z\"/><path d=\"M17.41 7.96l-1.37-1.37c-.4-.4-.92-.59-1.43-.59-.52 0-1.04.2-1.43.59L10.3 9.45l-7.72 7.72c-.78.78-.78 2.05 0 2.83L4 21.41c.39.39.9.59 1.41.59.51 0 1.02-.2 1.41-.59l7.78-7.78 2.81-2.81c.8-.78.8-2.07 0-2.86zM5.41 20L4 18.59l7.72-7.72 1.47 1.35L5.41 20z\"/>\n",
              "  </svg>\n",
              "      </button>\n",
              "      \n",
              "  <style>\n",
              "    .colab-df-container {\n",
              "      display:flex;\n",
              "      flex-wrap:wrap;\n",
              "      gap: 12px;\n",
              "    }\n",
              "\n",
              "    .colab-df-convert {\n",
              "      background-color: #E8F0FE;\n",
              "      border: none;\n",
              "      border-radius: 50%;\n",
              "      cursor: pointer;\n",
              "      display: none;\n",
              "      fill: #1967D2;\n",
              "      height: 32px;\n",
              "      padding: 0 0 0 0;\n",
              "      width: 32px;\n",
              "    }\n",
              "\n",
              "    .colab-df-convert:hover {\n",
              "      background-color: #E2EBFA;\n",
              "      box-shadow: 0px 1px 2px rgba(60, 64, 67, 0.3), 0px 1px 3px 1px rgba(60, 64, 67, 0.15);\n",
              "      fill: #174EA6;\n",
              "    }\n",
              "\n",
              "    [theme=dark] .colab-df-convert {\n",
              "      background-color: #3B4455;\n",
              "      fill: #D2E3FC;\n",
              "    }\n",
              "\n",
              "    [theme=dark] .colab-df-convert:hover {\n",
              "      background-color: #434B5C;\n",
              "      box-shadow: 0px 1px 3px 1px rgba(0, 0, 0, 0.15);\n",
              "      filter: drop-shadow(0px 1px 2px rgba(0, 0, 0, 0.3));\n",
              "      fill: #FFFFFF;\n",
              "    }\n",
              "  </style>\n",
              "\n",
              "      <script>\n",
              "        const buttonEl =\n",
              "          document.querySelector('#df-b27ab2df-2243-4c30-ad13-140647e735bc button.colab-df-convert');\n",
              "        buttonEl.style.display =\n",
              "          google.colab.kernel.accessAllowed ? 'block' : 'none';\n",
              "\n",
              "        async function convertToInteractive(key) {\n",
              "          const element = document.querySelector('#df-b27ab2df-2243-4c30-ad13-140647e735bc');\n",
              "          const dataTable =\n",
              "            await google.colab.kernel.invokeFunction('convertToInteractive',\n",
              "                                                     [key], {});\n",
              "          if (!dataTable) return;\n",
              "\n",
              "          const docLinkHtml = 'Like what you see? Visit the ' +\n",
              "            '<a target=\"_blank\" href=https://colab.research.google.com/notebooks/data_table.ipynb>data table notebook</a>'\n",
              "            + ' to learn more about interactive tables.';\n",
              "          element.innerHTML = '';\n",
              "          dataTable['output_type'] = 'display_data';\n",
              "          await google.colab.output.renderOutput(dataTable, element);\n",
              "          const docLink = document.createElement('div');\n",
              "          docLink.innerHTML = docLinkHtml;\n",
              "          element.appendChild(docLink);\n",
              "        }\n",
              "      </script>\n",
              "    </div>\n",
              "  </div>\n",
              "  "
            ]
          },
          "metadata": {},
          "execution_count": 4
        }
      ]
    },
    {
      "cell_type": "code",
      "source": [
        "from string import Formatter\n",
        "\n",
        "terms = {\n",
        "    \"age\": \"my age\",\n",
        "    \"name\": \"my name\",\n",
        "    \"id\": \"my id\",\n",
        "    \"group\": \"my group\"\n",
        "}\n",
        "\n",
        "def fill_event(event, terms):\n",
        "  result = event\n",
        "  vars = [fn for _, fn, _, _ in Formatter().parse(event) if fn is not None]\n",
        "  for var in vars:\n",
        "    target = \"{\" + var + \"}\"\n",
        "    result = result.replace(target, terms[var])\n",
        "    \n",
        "  return result\n",
        "# event = initial.format(id=events[\"id\"][3], group=events.group[3])"
      ],
      "metadata": {
        "id": "On8-2w6y8IME"
      },
      "execution_count": 5,
      "outputs": []
    },
    {
      "cell_type": "code",
      "source": [
        "# Game Object\n",
        "class Game:\n",
        "  def __init__(self, first_event):\n",
        "    self.event = first_event # location is age\n",
        "    self.traits = []\n",
        "    self.items = []\n",
        "    self.print_commands = True\n",
        "    self.events = events\n",
        "    # self.event_ids = events[\"id\"] # Only save the events id here\n",
        "    # For now, id = index\n",
        "    self.terms = terms\n",
        "  \n",
        "  def print(self):\n",
        "    id = random.randint(1, 4)\n",
        "    self.print_event(id, self.terms)\n",
        "  \n",
        "  # event 就是当前年龄抽取的事件「你今年 xx 岁，干了 xx 事」\n",
        "  def print_test_event(self):\n",
        "    # print(\"「你今年 xx 岁，干了 xx 事」\")\n",
        "    print(self.event.age, self.event.description)\n",
        "    self.event.age = str(int(self.event.age) + 1)\n",
        "  \n",
        "  def print_event(self, id, terms):\n",
        "    initial = self.events.loc[id][\"content\"]\n",
        "    initial = fill_event(initial, terms)\n",
        "    print(initial)"
      ],
      "metadata": {
        "id": "QlUYsr_LJZz6"
      },
      "execution_count": 6,
      "outputs": []
    },
    {
      "cell_type": "code",
      "source": [
        "class Event:\n",
        "  def __init__(self, age, description):\n",
        "    self.age = age\n",
        "    self.description = description\n",
        "  \n",
        "  def starter_event(self):\n",
        "    self.age = \"0\"\n",
        "    self.description = \"Hellow World\""
      ],
      "metadata": {
        "id": "72cq0ww_TkMC"
      },
      "execution_count": 7,
      "outputs": []
    },
    {
      "cell_type": "code",
      "source": [
        "import random\n",
        "import time\n",
        "def game_builder():\n",
        "  # 有一个初始年龄\n",
        "  starter = Event(\"0\", \"Hello World\")\n",
        "  # Random number generator\n",
        "  random.seed(time.time())\n",
        "  # event_sequence = str(random.random())\n",
        "  # print(event_sequence[len(event_sequence) - 1], event_sequence)\n",
        "  print(random.randint(0, 4))\n",
        "  return Game(starter)\n"
      ],
      "metadata": {
        "id": "o4gT6fViSGeo"
      },
      "execution_count": 8,
      "outputs": []
    },
    {
      "cell_type": "code",
      "source": [
        "class Parser:\n",
        "  def __init__(self, game):\n",
        "    self.history = []\n",
        "    self.game = game\n",
        "\n",
        "  def get_player_intent(self,command):\n",
        "    command = command.lower()\n",
        "    if \",\" in command:\n",
        "      # Let the player type in a comma separted sequence of commands\n",
        "      return \"sequence\""
      ],
      "metadata": {
        "id": "rE8PWtt8SqdG"
      },
      "execution_count": 9,
      "outputs": []
    },
    {
      "cell_type": "code",
      "execution_count": 10,
      "metadata": {
        "colab": {
          "base_uri": "https://localhost:8080/"
        },
        "id": "1AWJoVOHHQ-O",
        "outputId": "6d6bc0b0-26ed-4319-d92a-de67784e85f1"
      },
      "outputs": [
        {
          "output_type": "stream",
          "name": "stdout",
          "text": [
            "2\n",
            "凡是神结合的，人不能分开。\n",
            "id: my id, group my group\n",
            "id: my id, group my group\n",
            "id: my id, group my group\n",
            "凡是神结合的，人不能分开。\n",
            "id: my id, group my group\n",
            "id: my id, group my group\n",
            "我今年my age，我的名字是my name。\n",
            "凡是神结合的，人不能分开。\n",
            "我今年my age，我的名字是my name。\n",
            "THE GAME HAS ENDED.\n"
          ]
        }
      ],
      "source": [
        "def game_loop():\n",
        "  game = game_builder()\n",
        "  parser = Parser(game)\n",
        "  # game.print()\n",
        "\n",
        "  command = \"\"\n",
        "  counter = 0\n",
        "  while not (command.lower() == \"exit\" or command.lower == \"q\"):\n",
        "    # command = input(\">\")\n",
        "    # end_game = parser.parse_command(command)\n",
        "    time.sleep(0.3)\n",
        "    game.print()\n",
        "    # if end_game:\n",
        "    #   return 0\n",
        "    counter += 1\n",
        "    if counter >= 10:\n",
        "      break;\n",
        "\n",
        "game_loop()\n",
        "print('THE GAME HAS ENDED.')"
      ]
    }
  ]
}